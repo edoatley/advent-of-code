{
 "cells": [
  {
   "cell_type": "markdown",
   "id": "25246a77-c86a-4767-8714-bd45c20c831f",
   "metadata": {},
   "source": [
    "# --- Day 2: Red-Nosed Reports ---\n",
    "\n",
    "Fortunately, the first location The Historians want to search isn't a long walk from the Chief Historian's office.\n",
    "\n",
    "While the Red-Nosed Reindeer nuclear fusion/fission plant appears to contain no sign of the Chief Historian, the engineers there run up to you as soon as they see you. Apparently, they still talk about the time Rudolph was saved through molecular synthesis from a single electron.\n",
    "\n",
    "They're quick to add that - since you're already here - they'd really appreciate your help analyzing some unusual data from the Red-Nosed reactor. You turn to check if The Historians are waiting for you, but they seem to have already divided into groups that are currently searching every corner of the facility. You offer to help with the unusual data.\n",
    "\n",
    "The unusual data (your puzzle input) consists of many reports, one report per line. Each report is a list of numbers called levels that are separated by spaces. For example:\n",
    "\n",
    "```\n",
    "7 6 4 2 1\n",
    "1 2 7 8 9\n",
    "9 7 6 2 1\n",
    "1 3 2 4 5\n",
    "8 6 4 4 1\n",
    "1 3 6 7 9\n",
    "```\n",
    "\n",
    "This example data contains six reports each containing five levels.\n",
    "\n",
    "The engineers are trying to figure out which reports are safe. The Red-Nosed reactor safety systems can only tolerate levels that are either gradually increasing or gradually decreasing. So, a report only counts as safe if both of the following are true:\n",
    "\n",
    "- The levels are either all increasing or all decreasing.\n",
    "- Any two adjacent levels differ by at least one and at most three.\n",
    "\n",
    "In the example above, the reports can be found safe or unsafe by checking those rules:\n",
    "\n",
    "```\n",
    "7 6 4 2 1: Safe because the levels are all decreasing by 1 or 2.\n",
    "1 2 7 8 9: Unsafe because 2 7 is an increase of 5.\n",
    "9 7 6 2 1: Unsafe because 6 2 is a decrease of 4.\n",
    "1 3 2 4 5: Unsafe because 1 3 is increasing but 3 2 is decreasing.\n",
    "8 6 4 4 1: Unsafe because 4 4 is neither an increase or a decrease.\n",
    "1 3 6 7 9: Safe because the levels are all increasing by 1, 2, or 3.\n",
    "```\n",
    "\n",
    "So, in this example, 2 reports are safe.\n",
    "\n",
    "Analyze the unusual data from the engineers. How many reports are safe?"
   ]
  },
  {
   "cell_type": "code",
   "execution_count": 11,
   "id": "98b300b0-b366-4ce8-964f-5afa1d6672ad",
   "metadata": {},
   "outputs": [],
   "source": [
    "def read_input(file_name):\n",
    "    input = []\n",
    "    with open(file_name, 'r') as file:\n",
    "        for line in file:\n",
    "            input.append([int(x) for x in line.split()])\n",
    "    return input"
   ]
  },
  {
   "cell_type": "code",
   "execution_count": 12,
   "id": "34943df5-f0e4-43df-b224-fbe533928c2a",
   "metadata": {},
   "outputs": [],
   "source": [
    "def safe(levels) -> bool:\n",
    "    # print(levels)\n",
    "    if levels[0] == levels[1]:\n",
    "        # print('Unsafe equal value')\n",
    "        return False\n",
    "\n",
    "    ascending = levels[0] < levels[1]\n",
    "    \n",
    "    for i in range(len(levels) -1):\n",
    "        diff = levels[i] - levels[i+1]\n",
    "        # print(f'{ascending=} {diff} = {levels[i]} - {levels[i+1]}')\n",
    "        if ascending and diff not in [-1,-2,-3] or (not ascending and diff not in [1,2,3]):\n",
    "            # print('Unsafe rapid change')\n",
    "            return False\n",
    "        \n",
    "    # print('Safe!')    \n",
    "    return True\n",
    "            "
   ]
  },
  {
   "cell_type": "code",
   "execution_count": 13,
   "id": "158b5a14-0be2-49a3-a3fd-35e8a82e2409",
   "metadata": {},
   "outputs": [],
   "source": [
    "def count_iterable(i):\n",
    "    return sum(1 for e in i)"
   ]
  },
  {
   "cell_type": "code",
   "execution_count": 14,
   "id": "36ba541d-480c-4803-a2e9-923fd515a180",
   "metadata": {
    "tags": []
   },
   "outputs": [
    {
     "name": "stdout",
     "output_type": "stream",
     "text": [
      "559\n"
     ]
    }
   ],
   "source": [
    "levels_list = read_input('input.txt')\n",
    "safe_levels = filter(safe, levels_list)\n",
    "print(count_iterable(safe_levels))"
   ]
  },
  {
   "cell_type": "markdown",
   "id": "bb6aeeff-2ef4-4aa2-8282-f74c263823de",
   "metadata": {},
   "source": [
    "Your puzzle answer was 559.\n",
    "\n",
    "The first half of this puzzle is complete! It provides one gold star: *"
   ]
  },
  {
   "cell_type": "markdown",
   "id": "c34bc50b-9d4d-4b59-8b92-e603c44bb32e",
   "metadata": {},
   "source": [
    "# --- Part Two ---\n",
    "The engineers are surprised by the low number of safe reports until they realize they forgot to tell you about the Problem Dampener.\n",
    "\n",
    "The Problem Dampener is a reactor-mounted module that lets the reactor safety systems tolerate a single bad level in what would otherwise be a safe report. It's like the bad level never happened!\n",
    "\n",
    "Now, the same rules apply as before, except if removing a single level from an unsafe report would make it safe, the report instead counts as safe.\n",
    "\n",
    "More of the above example's reports are now safe:\n",
    "\n",
    "```\n",
    "7 6 4 2 1: Safe without removing any level.\n",
    "1 2 7 8 9: Unsafe regardless of which level is removed.\n",
    "9 7 6 2 1: Unsafe regardless of which level is removed.\n",
    "1 3 2 4 5: Safe by removing the second level, 3.\n",
    "8 6 4 4 1: Safe by removing the third level, 4.\n",
    "1 3 6 7 9: Safe without removing any level.\n",
    "```\n",
    "\n",
    "Thanks to the Problem Dampener, 4 reports are actually safe!\n",
    "\n",
    "Update your analysis by handling situations where the Problem Dampener can remove a single level from unsafe reports. How many reports are now safe?"
   ]
  },
  {
   "cell_type": "code",
   "execution_count": 15,
   "id": "514896a3-09f3-4779-ae7d-e9c4d6144799",
   "metadata": {},
   "outputs": [],
   "source": [
    "def find_asc_or_desc(levels):\n",
    "    for i in range(len(levels) -1):\n",
    "        if levels[i] - levels[i+1] > 0:\n",
    "            return False\n",
    "        elif levels[i] - levels[i+1] < 0:\n",
    "            return True\n",
    "    return None"
   ]
  },
  {
   "cell_type": "code",
   "execution_count": 16,
   "id": "7e072f26-d478-4b1c-816f-6ee1eb7317a8",
   "metadata": {},
   "outputs": [],
   "source": [
    "def problem_levels(levels):\n",
    "    \n",
    "    ascending = find_asc_or_desc(levels)\n",
    "    # print(f'{ascending=}')\n",
    "    \n",
    "    problems = []\n",
    "    \n",
    "    for i in range(len(levels) -1):\n",
    "        diff = levels[i] - levels[i+1]\n",
    "        # print(f'{ascending=} {diff} = {levels[i]} - {levels[i+1]}')\n",
    "        if ascending and diff not in [-1,-2,-3] or (not ascending and diff not in [1,2,3]):\n",
    "            problems.append((i))\n",
    "        \n",
    "    # print(f'{problems=}')    \n",
    "    return problems"
   ]
  },
  {
   "cell_type": "code",
   "execution_count": 17,
   "id": "d7c616dd-db61-48ef-b0b9-3a810a83a05a",
   "metadata": {},
   "outputs": [],
   "source": [
    "def remove_problem(levels, p):\n",
    "    new_list = levels.copy()\n",
    "    new_list.pop(p)\n",
    "    return safe(new_list)"
   ]
  },
  {
   "cell_type": "code",
   "execution_count": 18,
   "id": "3e057bfb-a88b-4a18-bf92-3fb2f2b3769c",
   "metadata": {},
   "outputs": [],
   "source": [
    "def check_dampener_options(levels, problems): \n",
    "    if len(problems) == 0: \n",
    "        return True\n",
    "\n",
    "    for p in problems:\n",
    "        if remove_problem(levels, p):\n",
    "            return True\n",
    "        if remove_problem(levels, p+1):\n",
    "            return True\n",
    "        \n",
    "    return False"
   ]
  },
  {
   "cell_type": "code",
   "execution_count": 19,
   "id": "5d20ce37-b7e4-4889-aa56-3b2e2192b442",
   "metadata": {},
   "outputs": [],
   "source": [
    "def safe_with_dampener(levels_list, problems):\n",
    "    safe_count = 0\n",
    "    for i in range(len(levels_list)):\n",
    "        # print(f'{levels_list[i]=}    {problems[i]=}')\n",
    "        if check_dampener_options(levels_list[i], problems[i]):\n",
    "            safe_count += 1\n",
    "    return safe_count"
   ]
  },
  {
   "cell_type": "code",
   "execution_count": 20,
   "id": "e27434b3-0d6e-4dc3-a9e6-7d556a2b5e35",
   "metadata": {
    "tags": []
   },
   "outputs": [
    {
     "name": "stdout",
     "output_type": "stream",
     "text": [
      "601\n"
     ]
    }
   ],
   "source": [
    "problems = [problem_levels(l) for l in levels_list]\n",
    "print(safe_with_dampener(levels_list, problems))"
   ]
  }
 ],
 "metadata": {
  "kernelspec": {
   "display_name": "conda_tensorflow2_p310",
   "language": "python",
   "name": "conda_tensorflow2_p310"
  },
  "language_info": {
   "codemirror_mode": {
    "name": "ipython",
    "version": 3
   },
   "file_extension": ".py",
   "mimetype": "text/x-python",
   "name": "python",
   "nbconvert_exporter": "python",
   "pygments_lexer": "ipython3",
   "version": "3.10.15"
  }
 },
 "nbformat": 4,
 "nbformat_minor": 5
}
