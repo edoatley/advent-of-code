{
 "cells": [
  {
   "cell_type": "markdown",
   "id": "7ca61e0c-b46f-4c23-8a66-bb371e899e3b",
   "metadata": {},
   "source": [
    "# Day 3: Rucksack Reorganization\n",
    "\n",
    "One Elf has the important job of loading all of the rucksacks with supplies for the jungle journey. Unfortunately, that Elf didn't quite follow the packing instructions, and so a few items now need to be rearranged.\n",
    "\n",
    "Each rucksack has two large compartments. All items of a given type are meant to go into exactly one of the two compartments. The Elf that did the packing failed to follow this rule for exactly one item type per rucksack.\n",
    "\n",
    "The Elves have made a list of all of the items currently in each rucksack (your puzzle input), but they need your help finding the errors. Every item type is identified by a single lowercase or uppercase letter (that is, a and A refer to different types of items).\n",
    "\n",
    "The list of items for each rucksack is given as characters all on a single line. A given rucksack always has the same number of items in each of its two compartments, so the first half of the characters represent items in the first compartment, while the second half of the characters represent items in the second compartment.\n",
    "\n",
    "For example, suppose you have the following list of contents from six rucksacks:\n",
    "\n",
    "```\n",
    "vJrwpWtwJgWrhcsFMMfFFhFp\n",
    "jqHRNqRjqzjGDLGLrsFMfFZSrLrFZsSL\n",
    "PmmdzqPrVvPwwTWBwg\n",
    "wMqvLMZHhHMvwLHjbvcjnnSBnvTQFn\n",
    "ttgJtRGJQctTZtZT\n",
    "CrZsJsPPZsGzwwsLwLmpwMDw\n",
    "```\n",
    "\n",
    "- The first rucksack contains the items vJrwpWtwJgWrhcsFMMfFFhFp, which means its first compartment contains the items vJrwpWtwJgWr, while the second compartment contains the items hcsFMMfFFhFp. The only item type that appears in both compartments is lowercase p.\n",
    "- The second rucksack's compartments contain jqHRNqRjqzjGDLGL and rsFMfFZSrLrFZsSL. The only item type that appears in both compartments is uppercase L.\n",
    "- The third rucksack's compartments contain PmmdzqPrV and vPwwTWBwg; the only common item type is uppercase P.\n",
    "- The fourth rucksack's compartments only share item type v.\n",
    "- The fifth rucksack's compartments only share item type t.\n",
    "- The sixth rucksack's compartments only share item type s.\n",
    "\n",
    "To help prioritize item rearrangement, every item type can be converted to a priority:\n",
    "\n",
    "- Lowercase item types a through z have priorities 1 through 26.\n",
    "- Uppercase item types A through Z have priorities 27 through 52.\n",
    "\n",
    "In the above example, the priority of the item type that appears in both compartments of each rucksack is 16 (p), 38 (L), 42 (P), 22 (v), 20 (t), and 19 (s); the sum of these is 157.\n",
    "\n",
    "Find the item type that appears in both compartments of each rucksack. What is the sum of the priorities of those item types?"
   ]
  },
  {
   "cell_type": "code",
   "execution_count": 106,
   "id": "5a31d430-39f0-4953-aa20-27f841ab5300",
   "metadata": {},
   "outputs": [],
   "source": [
    "# Rough idea of solution:\n",
    "\n",
    "# for each rucksack\n",
    "#    find char appearing in each half\n",
    "#    calculate the priority of that"
   ]
  },
  {
   "cell_type": "code",
   "execution_count": 107,
   "id": "427ad4b7-ffc4-4705-87ee-e2043148417b",
   "metadata": {},
   "outputs": [],
   "source": [
    "\"\"\"\n",
    "Lowercase item types a through z have priorities 1 through 26.\n",
    "Uppercase item types A through Z have priorities 27 through 52.\n",
    "\n",
    "ord() returns values as follows:\n",
    "\n",
    "A = 65  => maps to 27  - diff of -38\n",
    "Z = 90  => maps to 52  - diff of -38\n",
    "a = 97  => maps to 1   - diff of -96\n",
    "z = 122 => maps to 26  - diff of -96\n",
    "\"\"\"\n",
    "def calculate_priority(c: str) -> int:\n",
    "    char_value = ord(c)\n",
    "    if char_value < 91:\n",
    "        return char_value - 38\n",
    "    return char_value - 96"
   ]
  },
  {
   "cell_type": "code",
   "execution_count": 108,
   "id": "196e84f8-9235-4b84-9969-677899b88a1b",
   "metadata": {},
   "outputs": [
    {
     "name": "stderr",
     "output_type": "stream",
     "text": [
      "test_A (__main__.TestCalculatePriority.test_A) ... ok\n",
      "test_Z (__main__.TestCalculatePriority.test_Z) ... ok\n",
      "test_a (__main__.TestCalculatePriority.test_a) ... ok\n",
      "test_z (__main__.TestCalculatePriority.test_z) ... ok\n",
      "test_case_1 (__main__.TestFindDuplicateItem.test_case_1) ... ok\n",
      "test_case_2 (__main__.TestFindDuplicateItem.test_case_2) ... ok\n",
      "test_case_3 (__main__.TestFindDuplicateItem.test_case_3) ... ok\n",
      "test_case_4 (__main__.TestFindDuplicateItem.test_case_4) ... ok\n",
      "test_case_5 (__main__.TestFindDuplicateItem.test_case_5) ... ok\n",
      "test_case_6 (__main__.TestFindDuplicateItem.test_case_6) ... ok\n",
      "test_case_1 (__main__.TestFindDuplicateItemAcrossRucksacks.test_case_1) ... ok\n",
      "test_case_2 (__main__.TestFindDuplicateItemAcrossRucksacks.test_case_2) ... ok\n",
      "\n",
      "----------------------------------------------------------------------\n",
      "Ran 12 tests in 0.025s\n",
      "\n",
      "OK\n"
     ]
    },
    {
     "data": {
      "text/plain": [
       "<unittest.main.TestProgram at 0x7f8d25b06350>"
      ]
     },
     "execution_count": 108,
     "metadata": {},
     "output_type": "execute_result"
    }
   ],
   "source": [
    "#@title Test calculate_priority function\n",
    "import unittest\n",
    "\n",
    "class TestCalculatePriority(unittest.TestCase):\n",
    "    \n",
    "    def test_a(self):\n",
    "        self.assertEqual(calculate_priority('a'), 1)\n",
    "    \n",
    "    def test_z(self):\n",
    "        self.assertEqual(calculate_priority('z'), 26)\n",
    "    \n",
    "    def test_A(self):\n",
    "        self.assertEqual(calculate_priority('A'), 27)\n",
    "    \n",
    "    def test_Z(self):\n",
    "        self.assertEqual(calculate_priority('Z'), 52)\n",
    "\n",
    "unittest.main(argv=[''], verbosity=2, exit=False)"
   ]
  },
  {
   "cell_type": "code",
   "execution_count": 109,
   "id": "b59131b0-027a-4812-bfda-7d17165bbe4b",
   "metadata": {},
   "outputs": [],
   "source": [
    "\"\"\"\n",
    "This function splits the input in two and searches for the duplicate (letter appearing in both halves)\n",
    "\"\"\"\n",
    "def find_duplicate_item(rucksack: str) -> str:\n",
    "    midpoint = int(len(rucksack) / 2)\n",
    "    first_half = rucksack[:midpoint]\n",
    "    second_half = rucksack[midpoint:]\n",
    "\n",
    "    for c in first_half:\n",
    "        if c in second_half:\n",
    "            return c\n",
    "\n",
    "    return None   "
   ]
  },
  {
   "cell_type": "code",
   "execution_count": 110,
   "id": "5c79a8d4-8fc7-44d9-9d98-40aec0ae3b47",
   "metadata": {},
   "outputs": [
    {
     "name": "stderr",
     "output_type": "stream",
     "text": [
      "test_A (__main__.TestCalculatePriority.test_A) ... ok\n",
      "test_Z (__main__.TestCalculatePriority.test_Z) ... ok\n",
      "test_a (__main__.TestCalculatePriority.test_a) ... ok\n",
      "test_z (__main__.TestCalculatePriority.test_z) ... ok\n",
      "test_case_1 (__main__.TestFindDuplicateItem.test_case_1) ... ok\n",
      "test_case_2 (__main__.TestFindDuplicateItem.test_case_2) ... ok\n",
      "test_case_3 (__main__.TestFindDuplicateItem.test_case_3) ... ok\n",
      "test_case_4 (__main__.TestFindDuplicateItem.test_case_4) ... ok\n",
      "test_case_5 (__main__.TestFindDuplicateItem.test_case_5) ... ok\n",
      "test_case_6 (__main__.TestFindDuplicateItem.test_case_6) ... ok\n",
      "test_case_1 (__main__.TestFindDuplicateItemAcrossRucksacks.test_case_1) ... ok\n",
      "test_case_2 (__main__.TestFindDuplicateItemAcrossRucksacks.test_case_2) ... ok\n",
      "\n",
      "----------------------------------------------------------------------\n",
      "Ran 12 tests in 0.011s\n",
      "\n",
      "OK\n"
     ]
    },
    {
     "data": {
      "text/plain": [
       "<unittest.main.TestProgram at 0x7f8d1abaf890>"
      ]
     },
     "execution_count": 110,
     "metadata": {},
     "output_type": "execute_result"
    }
   ],
   "source": [
    "#@title Test calculate_priority function\n",
    "import unittest\n",
    "\n",
    "class TestFindDuplicateItem(unittest.TestCase):\n",
    "        \n",
    "    def test_case_1(self):\n",
    "        self.assertEqual(find_duplicate_item('vJrwpWtwJgWrhcsFMMfFFhFp'), 'p')\n",
    "        \n",
    "    def test_case_2(self):\n",
    "        self.assertEqual(find_duplicate_item('jqHRNqRjqzjGDLGLrsFMfFZSrLrFZsSL'), 'L')\n",
    "        \n",
    "    def test_case_3(self):\n",
    "        self.assertEqual(find_duplicate_item('PmmdzqPrVvPwwTWBwg'), 'P')\n",
    "        \n",
    "    def test_case_4(self):\n",
    "        self.assertEqual(find_duplicate_item('wMqvLMZHhHMvwLHjbvcjnnSBnvTQFn'), 'v')\n",
    "        \n",
    "    def test_case_5(self):\n",
    "        self.assertEqual(find_duplicate_item('ttgJtRGJQctTZtZT'), 't')\n",
    "        \n",
    "    def test_case_6(self):\n",
    "        self.assertEqual(find_duplicate_item('CrZsJsPPZsGzwwsLwLmpwMDw'), 's')\n",
    "\n",
    "unittest.main(argv=[''], verbosity=2, exit=False)"
   ]
  },
  {
   "cell_type": "code",
   "execution_count": 111,
   "id": "ef2ee5ee-c075-4e39-be36-b3ea614a328f",
   "metadata": {},
   "outputs": [],
   "source": [
    "#@title Imports\n",
    "import pandas as pd"
   ]
  },
  {
   "cell_type": "code",
   "execution_count": 112,
   "id": "dc8f7d9e-2185-41a7-81f3-335f3c8a1a2a",
   "metadata": {},
   "outputs": [],
   "source": [
    "#@title import the data\n",
    "df = pd.read_csv('input.txt', sep=' ', header=None)"
   ]
  },
  {
   "cell_type": "code",
   "execution_count": 113,
   "id": "4d043c43-3507-46ac-90ba-f233ff7b4bc8",
   "metadata": {},
   "outputs": [],
   "source": [
    "#@title Clean and convert the data\n",
    "\n",
    "# Add Column Names\n",
    "df.columns = ['Rucksack']\n",
    "\n",
    "# add score\n",
    "df['Item'] = df.apply(lambda x: find_duplicate_item(x['Rucksack']), axis=1)\n",
    "df['Priority'] = df.apply(lambda x: calculate_priority(x['Item']), axis=1)"
   ]
  },
  {
   "cell_type": "code",
   "execution_count": 114,
   "id": "2f5a3633-1e9f-4fc5-bdb5-1717c11048d4",
   "metadata": {},
   "outputs": [
    {
     "data": {
      "text/plain": [
       "7737"
      ]
     },
     "execution_count": 114,
     "metadata": {},
     "output_type": "execute_result"
    }
   ],
   "source": [
    "df['Priority'].sum()"
   ]
  },
  {
   "cell_type": "markdown",
   "id": "2b851880-495b-423e-ac30-6e6648fff7fe",
   "metadata": {},
   "source": [
    "Your puzzle answer was 7737.\n",
    "\n",
    "The first half of this puzzle is complete! It provides one gold star: *"
   ]
  },
  {
   "cell_type": "markdown",
   "id": "4bb20eb7-77e3-448c-bcab-473a46c9cfc2",
   "metadata": {},
   "source": [
    "## Part Two\n",
    "\n",
    "As you finish identifying the misplaced items, the Elves come to you with another issue.\n",
    "\n",
    "For safety, the Elves are divided into groups of three. Every Elf carries a badge that identifies their group. For efficiency, within each group of three Elves, the badge is the only item type carried by all three Elves. That is, if a group's badge is item type B, then all three Elves will have item type B somewhere in their rucksack, and at most two of the Elves will be carrying any other item type.\n",
    "\n",
    "The problem is that someone forgot to put this year's updated authenticity sticker on the badges. All of the badges need to be pulled out of the rucksacks so the new authenticity stickers can be attached.\n",
    "\n",
    "Additionally, nobody wrote down which item type corresponds to each group's badges. The only way to tell which item type is the right one is by finding the one item type that is common between all three Elves in each group.\n",
    "\n",
    "Every set of three lines in your list corresponds to a single group, but each group can have a different badge item type. So, in the above example, the first group's rucksacks are the first three lines:\n",
    "\n",
    "```\n",
    "vJrwpWtwJgWrhcsFMMfFFhFp\n",
    "jqHRNqRjqzjGDLGLrsFMfFZSrLrFZsSL\n",
    "PmmdzqPrVvPwwTWBwg\n",
    "```\n",
    "\n",
    "And the second group's rucksacks are the next three lines:\n",
    "\n",
    "```\n",
    "wMqvLMZHhHMvwLHjbvcjnnSBnvTQFn\n",
    "ttgJtRGJQctTZtZT\n",
    "CrZsJsPPZsGzwwsLwLmpwMDw\n",
    "```\n",
    "\n",
    "In the first group, the only item type that appears in all three rucksacks is lowercase r; this must be their badges. In the second group, their badge item type must be Z.\n",
    "\n",
    "Priorities for these items must still be found to organize the sticker attachment efforts: here, they are 18 (r) for the first group and 52 (Z) for the second group. The sum of these is 70.\n",
    "\n",
    "Find the item type that corresponds to the badges of each three-Elf group. What is the sum of the priorities of those item types?"
   ]
  },
  {
   "cell_type": "code",
   "execution_count": 115,
   "id": "d7a80b2b-15f8-4b6d-ad17-2bcf91b3e409",
   "metadata": {},
   "outputs": [],
   "source": [
    "result = []\n",
    "\n",
    "with open('input.txt') as f:\n",
    "    temp = []\n",
    "    for line in f:\n",
    "        if len(temp) == 3:\n",
    "           result.append(temp)\n",
    "           temp = []\n",
    "        temp.append(line)\n",
    "\n",
    "    if len(temp) == 3:\n",
    "       result.append(temp)\n",
    "    else:\n",
    "        if len(temp) > 0:\n",
    "            raise RuntimeError(f'Leftover elements not divisible by 3: {temp}')\n",
    "            \n",
    "df = pd.DataFrame(result, columns=['Sack 1', 'Sack 2', 'Sack 3'])"
   ]
  },
  {
   "cell_type": "code",
   "execution_count": 116,
   "id": "c1a51e82-0bdb-45cb-9dcc-4667f683140c",
   "metadata": {},
   "outputs": [
    {
     "data": {
      "text/html": [
       "<div>\n",
       "<style scoped>\n",
       "    .dataframe tbody tr th:only-of-type {\n",
       "        vertical-align: middle;\n",
       "    }\n",
       "\n",
       "    .dataframe tbody tr th {\n",
       "        vertical-align: top;\n",
       "    }\n",
       "\n",
       "    .dataframe thead th {\n",
       "        text-align: right;\n",
       "    }\n",
       "</style>\n",
       "<table border=\"1\" class=\"dataframe\">\n",
       "  <thead>\n",
       "    <tr style=\"text-align: right;\">\n",
       "      <th></th>\n",
       "      <th>Sack 1</th>\n",
       "      <th>Sack 2</th>\n",
       "      <th>Sack 3</th>\n",
       "    </tr>\n",
       "  </thead>\n",
       "  <tbody>\n",
       "    <tr>\n",
       "      <th>0</th>\n",
       "      <td>rZTmmqbBrmBvSTCwDDtlwjqnqnnq\\n</td>\n",
       "      <td>dhgQHhPfVgPlPdFzFzFgdptCQjtnwCntjsCppRtRND\\n</td>\n",
       "      <td>lVdVHWGPvTvmrrBW\\n</td>\n",
       "    </tr>\n",
       "    <tr>\n",
       "      <th>1</th>\n",
       "      <td>GmJBqwPLhfPBfJfvfffFmwtjDprpzVpVMpcDrVjzzcjpML\\n</td>\n",
       "      <td>HgWnRnWggWbNTWbCnPCgCnsjcVDrjMrdzjprMMrzcHDrDr\\n</td>\n",
       "      <td>SsSsRsCSPSPBvtJt\\n</td>\n",
       "    </tr>\n",
       "    <tr>\n",
       "      <th>2</th>\n",
       "      <td>BLtwwTBmLSTlMsjdZmFZZP\\n</td>\n",
       "      <td>hzbzNNrbqQbhQDDrhCprbhDCpvFJJPjMZJZgjjPdlvZjZv...</td>\n",
       "      <td>fbNrqrVDfdfGzqcHTBTVHwcTSHcH\\n</td>\n",
       "    </tr>\n",
       "    <tr>\n",
       "      <th>3</th>\n",
       "      <td>lcDdcrCDCRHJHBllPR\\n</td>\n",
       "      <td>tNGQwQhtzLhJBRHbPMBMjGBj\\n</td>\n",
       "      <td>NZZZpVqqFqpQpCTZcTnrTrnJJC\\n</td>\n",
       "    </tr>\n",
       "    <tr>\n",
       "      <th>4</th>\n",
       "      <td>BSNLNzbLLsMGSDLSsSBdVwTVQFdTVTtqgTwNVN\\n</td>\n",
       "      <td>lRjplvmWpgrqwlVFFr\\n</td>\n",
       "      <td>mfRCpWwvChZCBGSzZG\\n</td>\n",
       "    </tr>\n",
       "    <tr>\n",
       "      <th>...</th>\n",
       "      <td>...</td>\n",
       "      <td>...</td>\n",
       "      <td>...</td>\n",
       "    </tr>\n",
       "    <tr>\n",
       "      <th>95</th>\n",
       "      <td>zjfgjMhhgMJdfHQHWdVQvR\\n</td>\n",
       "      <td>CrmpmpZpHQptHHHQ\\n</td>\n",
       "      <td>CnwcFbNCqQBFwwFFsPslJgsjhMlMcDJP\\n</td>\n",
       "    </tr>\n",
       "    <tr>\n",
       "      <th>96</th>\n",
       "      <td>HpnStLpnQnHnqQLQqpMSSWWZbswNcNqwbNsfwqGGZc\\n</td>\n",
       "      <td>dVRRTCTVJNLcfJcJFb\\n</td>\n",
       "      <td>gzjTRCddgLDdzdjCCrBjjdhhBnQPSSBhvlSBQvMhQMnt\\n</td>\n",
       "    </tr>\n",
       "    <tr>\n",
       "      <th>97</th>\n",
       "      <td>lFTlwMwZlblSjrCpVvvsptspZpps\\n</td>\n",
       "      <td>nHRPPnqnhPRqJHhqqhfdPqLCHvBCvvscvVNczztCCvsvtm\\n</td>\n",
       "      <td>RJDghDhRhhGPPqGhsPhhFSbbwGSFjGQlWTrbwQbW\\n</td>\n",
       "    </tr>\n",
       "    <tr>\n",
       "      <th>98</th>\n",
       "      <td>RRjgNPTRFhglgNNjTsmGqCCGZfzmHCnZGnZCqq\\n</td>\n",
       "      <td>SppWLbtbCzZMpHMZ\\n</td>\n",
       "      <td>dSDbbJdVVlHFNlll\\n</td>\n",
       "    </tr>\n",
       "    <tr>\n",
       "      <th>99</th>\n",
       "      <td>dtZdGmqqtmzhtqZtZswzSnSjfNHNVjzCWCnCffHz\\n</td>\n",
       "      <td>LgpMFMvlhvRMhhDDlvvQLFJCfSCHnFVJnSnJHNjSnj\\n</td>\n",
       "      <td>rRBLcQcpQcrZbwsZshbs</td>\n",
       "    </tr>\n",
       "  </tbody>\n",
       "</table>\n",
       "<p>100 rows × 3 columns</p>\n",
       "</div>"
      ],
      "text/plain": [
       "                                              Sack 1  \\\n",
       "0                     rZTmmqbBrmBvSTCwDDtlwjqnqnnq\\n   \n",
       "1   GmJBqwPLhfPBfJfvfffFmwtjDprpzVpVMpcDrVjzzcjpML\\n   \n",
       "2                           BLtwwTBmLSTlMsjdZmFZZP\\n   \n",
       "3                               lcDdcrCDCRHJHBllPR\\n   \n",
       "4           BSNLNzbLLsMGSDLSsSBdVwTVQFdTVTtqgTwNVN\\n   \n",
       "..                                               ...   \n",
       "95                          zjfgjMhhgMJdfHQHWdVQvR\\n   \n",
       "96      HpnStLpnQnHnqQLQqpMSSWWZbswNcNqwbNsfwqGGZc\\n   \n",
       "97                    lFTlwMwZlblSjrCpVvvsptspZpps\\n   \n",
       "98          RRjgNPTRFhglgNNjTsmGqCCGZfzmHCnZGnZCqq\\n   \n",
       "99        dtZdGmqqtmzhtqZtZswzSnSjfNHNVjzCWCnCffHz\\n   \n",
       "\n",
       "                                               Sack 2  \\\n",
       "0        dhgQHhPfVgPlPdFzFzFgdptCQjtnwCntjsCppRtRND\\n   \n",
       "1    HgWnRnWggWbNTWbCnPCgCnsjcVDrjMrdzjprMMrzcHDrDr\\n   \n",
       "2   hzbzNNrbqQbhQDDrhCprbhDCpvFJJPjMZJZgjjPdlvZjZv...   \n",
       "3                          tNGQwQhtzLhJBRHbPMBMjGBj\\n   \n",
       "4                                lRjplvmWpgrqwlVFFr\\n   \n",
       "..                                                ...   \n",
       "95                                 CrmpmpZpHQptHHHQ\\n   \n",
       "96                               dVRRTCTVJNLcfJcJFb\\n   \n",
       "97   nHRPPnqnhPRqJHhqqhfdPqLCHvBCvvscvVNczztCCvsvtm\\n   \n",
       "98                                 SppWLbtbCzZMpHMZ\\n   \n",
       "99       LgpMFMvlhvRMhhDDlvvQLFJCfSCHnFVJnSnJHNjSnj\\n   \n",
       "\n",
       "                                            Sack 3  \n",
       "0                               lVdVHWGPvTvmrrBW\\n  \n",
       "1                               SsSsRsCSPSPBvtJt\\n  \n",
       "2                   fbNrqrVDfdfGzqcHTBTVHwcTSHcH\\n  \n",
       "3                     NZZZpVqqFqpQpCTZcTnrTrnJJC\\n  \n",
       "4                             mfRCpWwvChZCBGSzZG\\n  \n",
       "..                                             ...  \n",
       "95              CnwcFbNCqQBFwwFFsPslJgsjhMlMcDJP\\n  \n",
       "96  gzjTRCddgLDdzdjCCrBjjdhhBnQPSSBhvlSBQvMhQMnt\\n  \n",
       "97      RJDghDhRhhGPPqGhsPhhFSbbwGSFjGQlWTrbwQbW\\n  \n",
       "98                              dSDbbJdVVlHFNlll\\n  \n",
       "99                            rRBLcQcpQcrZbwsZshbs  \n",
       "\n",
       "[100 rows x 3 columns]"
      ]
     },
     "execution_count": 116,
     "metadata": {},
     "output_type": "execute_result"
    }
   ],
   "source": [
    "df"
   ]
  },
  {
   "cell_type": "code",
   "execution_count": 117,
   "id": "f05ef53b-d797-47ac-8503-c95e05b784cc",
   "metadata": {},
   "outputs": [],
   "source": [
    "\"\"\"\n",
    "This function looks through all the items in the biggest rucksack and looks for the one that is in the other two\n",
    "\"\"\"\n",
    "def find_duplicate_item_across_rucksacks(rucksacks: []) -> str:\n",
    "    rucksacks = sorted(rucksacks, key=len)\n",
    "        \n",
    "    for c in rucksacks[0]:\n",
    "        if c in rucksacks[1] and c in rucksacks[2]:\n",
    "            return c\n",
    "\n",
    "    return None"
   ]
  },
  {
   "cell_type": "code",
   "execution_count": 118,
   "id": "97441a0d-6727-492f-8c69-d68a8bf029a4",
   "metadata": {},
   "outputs": [
    {
     "name": "stderr",
     "output_type": "stream",
     "text": [
      "test_A (__main__.TestCalculatePriority.test_A) ... ok\n",
      "test_Z (__main__.TestCalculatePriority.test_Z) ... ok\n",
      "test_a (__main__.TestCalculatePriority.test_a) ... ok\n",
      "test_z (__main__.TestCalculatePriority.test_z) ... ok\n",
      "test_case_1 (__main__.TestFindDuplicateItem.test_case_1) ... ok\n",
      "test_case_2 (__main__.TestFindDuplicateItem.test_case_2) ... ok\n",
      "test_case_3 (__main__.TestFindDuplicateItem.test_case_3) ... ok\n",
      "test_case_4 (__main__.TestFindDuplicateItem.test_case_4) ... ok\n",
      "test_case_5 (__main__.TestFindDuplicateItem.test_case_5) ... ok\n",
      "test_case_6 (__main__.TestFindDuplicateItem.test_case_6) ... ok\n",
      "test_case_1 (__main__.TestFindDuplicateItemAcrossRucksacks.test_case_1) ... ok\n",
      "test_case_2 (__main__.TestFindDuplicateItemAcrossRucksacks.test_case_2) ... ok\n",
      "\n",
      "----------------------------------------------------------------------\n",
      "Ran 12 tests in 0.013s\n",
      "\n",
      "OK\n"
     ]
    },
    {
     "data": {
      "text/plain": [
       "<unittest.main.TestProgram at 0x7f8d1aba4b50>"
      ]
     },
     "execution_count": 118,
     "metadata": {},
     "output_type": "execute_result"
    }
   ],
   "source": [
    "#@title Test calculate_priority function\n",
    "import unittest\n",
    "\n",
    "class TestFindDuplicateItemAcrossRucksacks(unittest.TestCase):\n",
    "        \n",
    "    def test_case_1(self):\n",
    "        rucksacks = ['vJrwpWtwJgWrhcsFMMfFFhFp', 'jqHRNqRjqzjGDLGLrsFMfFZSrLrFZsSL', 'PmmdzqPrVvPwwTWBwg']\n",
    "        self.assertEqual(find_duplicate_item_across_rucksacks(rucksacks), 'r')\n",
    "        \n",
    "    def test_case_2(self):\n",
    "        rucksacks = ['wMqvLMZHhHMvwLHjbvcjnnSBnvTQFn', 'ttgJtRGJQctTZtZT', 'CrZsJsPPZsGzwwsLwLmpwMDw']\n",
    "        self.assertEqual(find_duplicate_item_across_rucksacks(rucksacks), 'Z')\n",
    "        \n",
    "unittest.main(argv=[''], verbosity=2, exit=False)"
   ]
  },
  {
   "cell_type": "code",
   "execution_count": 119,
   "id": "9fcf84d2-bc88-48e6-b7a3-b40407ae5209",
   "metadata": {},
   "outputs": [],
   "source": [
    "#@title Process the data\n",
    "\n",
    "# add score\n",
    "df['Duplicate'] = df.apply(lambda x: find_duplicate_item_across_rucksacks([x['Sack 1'], x['Sack 2'], x['Sack 3']]), axis=1)\n",
    "df['Priority'] = df.apply(lambda x: calculate_priority(x['Duplicate']), axis=1)"
   ]
  },
  {
   "cell_type": "code",
   "execution_count": 120,
   "id": "c7d9ce3d-3526-4106-9f77-fe133558086d",
   "metadata": {},
   "outputs": [
    {
     "data": {
      "text/plain": [
       "2697"
      ]
     },
     "execution_count": 120,
     "metadata": {},
     "output_type": "execute_result"
    }
   ],
   "source": [
    "df['Priority'].sum()"
   ]
  },
  {
   "cell_type": "code",
   "execution_count": null,
   "id": "476ed506-65ab-4104-9fc1-3f07cdb433a2",
   "metadata": {},
   "outputs": [],
   "source": []
  }
 ],
 "metadata": {
  "kernelspec": {
   "display_name": "Python 3 (ipykernel)",
   "language": "python",
   "name": "python3"
  },
  "language_info": {
   "codemirror_mode": {
    "name": "ipython",
    "version": 3
   },
   "file_extension": ".py",
   "mimetype": "text/x-python",
   "name": "python",
   "nbconvert_exporter": "python",
   "pygments_lexer": "ipython3",
   "version": "3.11.6"
  }
 },
 "nbformat": 4,
 "nbformat_minor": 5
}
