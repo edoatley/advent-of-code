{
 "cells": [
  {
   "cell_type": "markdown",
   "id": "7ca61e0c-b46f-4c23-8a66-bb371e899e3b",
   "metadata": {},
   "source": [
    "# Day 3: Rucksack Reorganization\n",
    "\n",
    "One Elf has the important job of loading all of the rucksacks with supplies for the jungle journey. Unfortunately, that Elf didn't quite follow the packing instructions, and so a few items now need to be rearranged.\n",
    "\n",
    "Each rucksack has two large compartments. All items of a given type are meant to go into exactly one of the two compartments. The Elf that did the packing failed to follow this rule for exactly one item type per rucksack.\n",
    "\n",
    "The Elves have made a list of all of the items currently in each rucksack (your puzzle input), but they need your help finding the errors. Every item type is identified by a single lowercase or uppercase letter (that is, a and A refer to different types of items).\n",
    "\n",
    "The list of items for each rucksack is given as characters all on a single line. A given rucksack always has the same number of items in each of its two compartments, so the first half of the characters represent items in the first compartment, while the second half of the characters represent items in the second compartment.\n",
    "\n",
    "For example, suppose you have the following list of contents from six rucksacks:\n",
    "\n",
    "```\n",
    "vJrwpWtwJgWrhcsFMMfFFhFp\n",
    "jqHRNqRjqzjGDLGLrsFMfFZSrLrFZsSL\n",
    "PmmdzqPrVvPwwTWBwg\n",
    "wMqvLMZHhHMvwLHjbvcjnnSBnvTQFn\n",
    "ttgJtRGJQctTZtZT\n",
    "CrZsJsPPZsGzwwsLwLmpwMDw\n",
    "```\n",
    "\n",
    "- The first rucksack contains the items vJrwpWtwJgWrhcsFMMfFFhFp, which means its first compartment contains the items vJrwpWtwJgWr, while the second compartment contains the items hcsFMMfFFhFp. The only item type that appears in both compartments is lowercase p.\n",
    "- The second rucksack's compartments contain jqHRNqRjqzjGDLGL and rsFMfFZSrLrFZsSL. The only item type that appears in both compartments is uppercase L.\n",
    "- The third rucksack's compartments contain PmmdzqPrV and vPwwTWBwg; the only common item type is uppercase P.\n",
    "- The fourth rucksack's compartments only share item type v.\n",
    "- The fifth rucksack's compartments only share item type t.\n",
    "- The sixth rucksack's compartments only share item type s.\n",
    "\n",
    "To help prioritize item rearrangement, every item type can be converted to a priority:\n",
    "\n",
    "- Lowercase item types a through z have priorities 1 through 26.\n",
    "- Uppercase item types A through Z have priorities 27 through 52.\n",
    "\n",
    "In the above example, the priority of the item type that appears in both compartments of each rucksack is 16 (p), 38 (L), 42 (P), 22 (v), 20 (t), and 19 (s); the sum of these is 157.\n",
    "\n",
    "Find the item type that appears in both compartments of each rucksack. What is the sum of the priorities of those item types?"
   ]
  },
  {
   "cell_type": "code",
   "execution_count": 38,
   "id": "5a31d430-39f0-4953-aa20-27f841ab5300",
   "metadata": {},
   "outputs": [],
   "source": [
    "# Rough idea of solution:\n",
    "\n",
    "# for each rucksack\n",
    "#    find char appearing in each half\n",
    "#    calculate the priority of that"
   ]
  },
  {
   "cell_type": "code",
   "execution_count": 39,
   "id": "427ad4b7-ffc4-4705-87ee-e2043148417b",
   "metadata": {},
   "outputs": [],
   "source": [
    "\"\"\"\n",
    "Lowercase item types a through z have priorities 1 through 26.\n",
    "Uppercase item types A through Z have priorities 27 through 52.\n",
    "\n",
    "ord() returns values as follows:\n",
    "\n",
    "A = 65  => maps to 27  - diff of -38\n",
    "Z = 90  => maps to 52  - diff of -38\n",
    "a = 97  => maps to 1   - diff of -96\n",
    "z = 122 => maps to 26  - diff of -96\n",
    "\"\"\"\n",
    "def calculate_priority(c: str) -> int:\n",
    "    char_value = ord(c)\n",
    "    if char_value < 91:\n",
    "        return char_value - 38\n",
    "    return char_value - 96"
   ]
  },
  {
   "cell_type": "code",
   "execution_count": 40,
   "id": "196e84f8-9235-4b84-9969-677899b88a1b",
   "metadata": {},
   "outputs": [
    {
     "name": "stderr",
     "output_type": "stream",
     "text": [
      "test_A (__main__.TestCalculatePriority.test_A) ... ok\n",
      "test_Z (__main__.TestCalculatePriority.test_Z) ... ok\n",
      "test_a (__main__.TestCalculatePriority.test_a) ... ok\n",
      "test_z (__main__.TestCalculatePriority.test_z) ... ok\n",
      "\n",
      "----------------------------------------------------------------------\n",
      "Ran 4 tests in 0.005s\n",
      "\n",
      "OK\n"
     ]
    },
    {
     "data": {
      "text/plain": [
       "<unittest.main.TestProgram at 0x7f8dc42ecb50>"
      ]
     },
     "execution_count": 40,
     "metadata": {},
     "output_type": "execute_result"
    }
   ],
   "source": [
    "#@title Test calculate_priority function\n",
    "import unittest\n",
    "\n",
    "class TestCalculatePriority(unittest.TestCase):\n",
    "    \n",
    "    def test_a(self):\n",
    "        self.assertEqual(calculate_priority('a'), 1)\n",
    "    \n",
    "    def test_z(self):\n",
    "        self.assertEqual(calculate_priority('z'), 26)\n",
    "    \n",
    "    def test_A(self):\n",
    "        self.assertEqual(calculate_priority('A'), 27)\n",
    "    \n",
    "    def test_Z(self):\n",
    "        self.assertEqual(calculate_priority('Z'), 52)\n",
    "\n",
    "unittest.main(argv=[''], verbosity=2, exit=False)"
   ]
  },
  {
   "cell_type": "code",
   "execution_count": null,
   "id": "b59131b0-027a-4812-bfda-7d17165bbe4b",
   "metadata": {},
   "outputs": [],
   "source": []
  }
 ],
 "metadata": {
  "kernelspec": {
   "display_name": "Python 3 (ipykernel)",
   "language": "python",
   "name": "python3"
  },
  "language_info": {
   "codemirror_mode": {
    "name": "ipython",
    "version": 3
   },
   "file_extension": ".py",
   "mimetype": "text/x-python",
   "name": "python",
   "nbconvert_exporter": "python",
   "pygments_lexer": "ipython3",
   "version": "3.11.6"
  }
 },
 "nbformat": 4,
 "nbformat_minor": 5
}
