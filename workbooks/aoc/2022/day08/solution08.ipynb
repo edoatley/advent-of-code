{
 "cells": [
  {
   "cell_type": "markdown",
   "metadata": {},
   "source": [
    "# Day 8: Treetop Tree House\n",
    "\n",
    "The expedition comes across a peculiar patch of tall trees all planted carefully in a grid. The Elves explain that a previous expedition planted these \n",
    "trees as a reforestation effort. Now, they're curious if this would be a good location for a tree house.\n",
    "\n",
    "First, determine whether there is enough tree cover here to keep a tree house hidden. To do this, you need to count the number of trees that are visible\n",
    "from outside the grid when looking directly along a row or column.\n",
    "\n",
    "The Elves have already launched a quadcopter to generate a map with the height of each tree (your puzzle input). For example:\n",
    "\n",
    "```\n",
    "30373\n",
    "25512\n",
    "65332\n",
    "33549\n",
    "35390\n",
    "```\n",
    "\n",
    "Each tree is represented as a single digit whose value is its height, where 0 is the shortest and 9 is the tallest.\n",
    "\n",
    "A tree is visible if all of the other trees between it and an edge of the grid are shorter than it. Only consider trees in the same row or column; \n",
    "that is, only look up, down, left, or right from any given tree.\n",
    "\n",
    "All of the trees around the edge of the grid are visible - since they are already on the edge, there are no trees to block the view. In this example, \n",
    "that only leaves the interior nine trees to consider:\n",
    "\n",
    "- The top-left 5 is visible from the left and top. (It isn't visible from the right or bottom since other trees of height 5 are in the way.)\n",
    "- The top-middle 5 is visible from the top and right.\n",
    "- The top-right 1 is not visible from any direction; for it to be visible, there would need to only be trees of height 0 between it and an edge.\n",
    "- The left-middle 5 is visible, but only from the right.\n",
    "- The center 3 is not visible from any direction; for it to be visible, there would need to be only trees of at most height 2 between it and an edge.\n",
    "- The right-middle 3 is visible from the right.\n",
    "- In the bottom row, the middle 5 is visible, but the 3 and 4 are not.\n",
    "\n",
    "With 16 trees visible on the edge and another 5 visible in the interior, a total of 21 trees are visible in this arrangement.\n",
    "\n",
    "Consider your map; how many trees are visible from outside the grid?"
   ]
  },
  {
   "cell_type": "code",
   "execution_count": 7,
   "metadata": {},
   "outputs": [],
   "source": [
    "#@title Define basic functions\n",
    "\n",
    "def generate_grid(filename: str):\n",
    "    grid = []\n",
    "    with open(filename) as f:\n",
    "        for line in f:\n",
    "            grid_row = []\n",
    "            trimmed_line = line.rstrip('\\n')\n",
    "            for c in trimmed_line:\n",
    "                grid_row.append(int(c))\n",
    "            grid.append(grid_row)\n",
    "\n",
    "    return grid            \n",
    "\n",
    "def calculate_perimeter(width : int, height: int) -> int:\n",
    "    return (width * 2) + ((height - 2) * 2)\n",
    "\n",
    "def check_if_visible(grid, col_idx: int, row_idx: int) -> bool:\n",
    "    print(f'check_if_visible({grid[row_idx][col_idx]}, {col_idx}, {row_idx})')\n",
    "    return False\n",
    "\n",
    "def calculate_visible(grid):\n",
    "    rows = len(grid)\n",
    "    cols = len(grid[0])\n",
    "    total = calculate_perimeter(cols, rows)\n",
    "    for col_index in range(1, cols):\n",
    "        for row_idx in range(1, rows):\n",
    "            if check_if_visible(grid, row_index, co_idx):\n",
    "                total = total + 1\n",
    "\n",
    "    return total"
   ]
  },
  {
   "cell_type": "code",
   "execution_count": 8,
   "metadata": {},
   "outputs": [
    {
     "name": "stderr",
     "output_type": "stream",
     "text": [
      "test_calculate_perimeter (__main__.TestProcessGrid.test_calculate_perimeter) ... ok\n",
      "test_calculate_visible (__main__.TestProcessGrid.test_calculate_visible) ... FAIL\n",
      "test_generate_grid (__main__.TestProcessGrid.test_generate_grid) ... ok\n",
      "\n",
      "======================================================================\n",
      "FAIL: test_calculate_visible (__main__.TestProcessGrid.test_calculate_visible)\n",
      "----------------------------------------------------------------------\n",
      "Traceback (most recent call last):\n",
      "  File \"/tmp/ipykernel_3200/87832156.py\", line 32, in test_calculate_visible\n",
      "    self.assertEqual(calculate_visible(input), 21)\n",
      "AssertionError: 16 != 21\n",
      "\n",
      "----------------------------------------------------------------------\n",
      "Ran 3 tests in 0.006s\n",
      "\n",
      "FAILED (failures=1)\n"
     ]
    },
    {
     "name": "stdout",
     "output_type": "stream",
     "text": [
      "check_if_visible(5, 1, 1)\n",
      "check_if_visible(5, 1, 2)\n",
      "check_if_visible(3, 1, 3)\n",
      "check_if_visible(5, 1, 4)\n",
      "check_if_visible(5, 2, 1)\n",
      "check_if_visible(3, 2, 2)\n",
      "check_if_visible(5, 2, 3)\n",
      "check_if_visible(3, 2, 4)\n",
      "check_if_visible(1, 3, 1)\n",
      "check_if_visible(3, 3, 2)\n",
      "check_if_visible(4, 3, 3)\n",
      "check_if_visible(9, 3, 4)\n",
      "check_if_visible(2, 4, 1)\n",
      "check_if_visible(2, 4, 2)\n",
      "check_if_visible(9, 4, 3)\n",
      "check_if_visible(0, 4, 4)\n"
     ]
    },
    {
     "data": {
      "text/plain": [
       "<unittest.main.TestProgram at 0x7f6cdc461090>"
      ]
     },
     "execution_count": 8,
     "metadata": {},
     "output_type": "execute_result"
    }
   ],
   "source": [
    "#@title write a test\n",
    "\n",
    "import unittest\n",
    "\n",
    "class TestProcessGrid(unittest.TestCase):\n",
    "\n",
    "    def test_generate_grid(self):\n",
    "        expected = [\n",
    "            [3, 0, 3, 7, 3],\n",
    "            [2, 5, 5, 1, 2],\n",
    "            [6, 5, 3, 3, 2],\n",
    "            [3, 3, 5, 4, 9],\n",
    "            [3, 5, 3, 9, 0],\n",
    "        ]\n",
    "\n",
    "        actual = generate_grid('test.txt')\n",
    "        \n",
    "        self.assertEqual(actual, expected)\n",
    "\n",
    "    def test_calculate_perimeter(self):\n",
    "        self.assertEqual(calculate_perimeter(5, 5), 16)\n",
    "        \n",
    "    def test_calculate_visible(self):\n",
    "        input = [\n",
    "            [3, 0, 3, 7, 3],\n",
    "            [2, 5, 5, 1, 2],\n",
    "            [6, 5, 3, 3, 2],\n",
    "            [3, 3, 5, 4, 9],\n",
    "            [3, 5, 3, 9, 0],\n",
    "        ]\n",
    "        \n",
    "        self.assertEqual(calculate_visible(input), 21)\n",
    "                         \n",
    "unittest.main(argv=[''], verbosity=2, exit=False)"
   ]
  },
  {
   "cell_type": "code",
   "execution_count": null,
   "metadata": {},
   "outputs": [],
   "source": []
  }
 ],
 "metadata": {
  "kernelspec": {
   "display_name": "Python 3 (ipykernel)",
   "language": "python",
   "name": "python3"
  },
  "language_info": {
   "codemirror_mode": {
    "name": "ipython",
    "version": 3
   },
   "file_extension": ".py",
   "mimetype": "text/x-python",
   "name": "python",
   "nbconvert_exporter": "python",
   "pygments_lexer": "ipython3",
   "version": "3.11.6"
  }
 },
 "nbformat": 4,
 "nbformat_minor": 4
}
