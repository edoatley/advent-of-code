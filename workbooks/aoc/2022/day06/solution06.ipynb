{
 "cells": [
  {
   "cell_type": "markdown",
   "id": "e4812429-6470-4a3b-88b9-7cbb4423e0bd",
   "metadata": {},
   "source": [
    "# Day 6: Tuning Trouble\n",
    "\n",
    "The preparations are finally complete; you and the Elves leave camp on foot and begin to make your way toward the star fruit grove.\n",
    "\n",
    "As you move through the dense undergrowth, one of the Elves gives you a handheld device. He says that it has many fancy features, but the most important one to set up right now is the communication system.\n",
    "\n",
    "However, because he's heard you have significant experience dealing with signal-based systems, he convinced the other Elves that it would be okay to give you their one malfunctioning device - surely you'll have no problem fixing it.\n",
    "\n",
    "As if inspired by comedic timing, the device emits a few colorful sparks.\n",
    "\n",
    "To be able to communicate with the Elves, the device needs to **lock on to their signal**. The signal is a series of seemingly-random characters that the device receives one at a time.\n",
    "\n",
    "To fix the communication system, you need to add a subroutine to the device that detects a **start-of-packet marker** in the datastream. In the protocol being used by the Elves, the start of a packet is indicated by a sequence of **four characters that are all different**.\n",
    "\n",
    "The device will send your subroutine a datastream buffer (your puzzle input); your subroutine needs to identify the first position where the four most recently received characters were all different. Specifically, it needs to report the number of characters from the beginning of the buffer to the end of the first such four-character marker.\n",
    "\n",
    "For example, suppose you receive the following datastream buffer:\n",
    "\n",
    "```\n",
    "mjqjpqmgbljsphdztnvjfqwrcgsmlb\n",
    "```\n",
    "\n",
    "After the first three characters (mjq) have been received, there haven't been enough characters received yet to find the marker. The first time a marker could occur is after the fourth character is received, making the most recent four characters mjqj. Because j is repeated, this isn't a marker.\n",
    "\n",
    "The first time a marker appears is after the seventh character arrives. Once it does, the last four characters received are jpqm, which are all different. In this case, your subroutine should report the value 7, because the first start-of-packet marker is complete after 7 characters have been processed.\n",
    "\n",
    "Here are a few more examples:\n",
    "\n",
    "- `bvwbjplbgvbhsrlpgdmjqwftvncz`: first marker after character 5\n",
    "- `nppdvjthqldpwncqszvftbrmjlhg`: first marker after character 6\n",
    "- `nznrnfrfntjfmvfwmzdfjlvtqnbhcprsg`: first marker after character 10\n",
    "- `zcfzfwzzqfrljwzlrfnpqdbhtmscgvjw`: first marker after character 11\n",
    "\n",
    "How many characters need to be processed before the first start-of-packet marker is detected?"
   ]
  },
  {
   "cell_type": "code",
   "execution_count": 7,
   "id": "a80eb00b-2ba6-4b4a-8a3e-5d927d43dcee",
   "metadata": {},
   "outputs": [],
   "source": [
    "NUMBER_OF_UNIQUE_FOR_START=4\n",
    "\n",
    "# crude implementation for now\n",
    "def unique_characters(input : str) -> bool:\n",
    "    for c in input:\n",
    "        if input.count(c) > 1:\n",
    "            return False\n",
    "    return True\n",
    "\n",
    "def start_marker_locn(input : str) -> int:\n",
    "    working = ''\n",
    "    for i, c in enumerate(input):\n",
    "        working = f'{working}{c}'\n",
    "        if len(working) >= NUMBER_OF_UNIQUE_FOR_START:\n",
    "            if unique_characters(working):\n",
    "                return i + 1\n",
    "            working = working[1:]\n",
    "    return None"
   ]
  },
  {
   "cell_type": "code",
   "execution_count": 8,
   "id": "d800d2f4-bad3-4e14-9669-05abe4c7a607",
   "metadata": {},
   "outputs": [
    {
     "name": "stderr",
     "output_type": "stream",
     "text": [
      "test_start_marker_locn_1 (__main__.TestStartMarker.test_start_marker_locn_1) ... ok\n",
      "test_start_marker_locn_2 (__main__.TestStartMarker.test_start_marker_locn_2) ... ok\n",
      "test_start_marker_locn_3 (__main__.TestStartMarker.test_start_marker_locn_3) ... ok\n",
      "test_start_marker_locn_4 (__main__.TestStartMarker.test_start_marker_locn_4) ... ok\n",
      "test_start_marker_locn_5 (__main__.TestStartMarker.test_start_marker_locn_5) ... ok\n",
      "\n",
      "----------------------------------------------------------------------\n",
      "Ran 5 tests in 0.007s\n",
      "\n",
      "OK\n"
     ]
    },
    {
     "data": {
      "text/plain": [
       "<unittest.main.TestProgram at 0x7fcd77637a90>"
      ]
     },
     "execution_count": 8,
     "metadata": {},
     "output_type": "execute_result"
    }
   ],
   "source": [
    "#@title Test start_marker_locn function\n",
    "import unittest\n",
    "\n",
    "class TestStartMarker(unittest.TestCase):\n",
    "\n",
    "    def test_start_marker_locn_1(self):\n",
    "        self.assertEqual(start_marker_locn('mjqjpqmgbljsphdztnvjfqwrcgsmlb'), 7)\n",
    "        \n",
    "    def test_start_marker_locn_2(self):\n",
    "        self.assertEqual(start_marker_locn('bvwbjplbgvbhsrlpgdmjqwftvncz'), 5)\n",
    "                         \n",
    "    def test_start_marker_locn_3(self):\n",
    "        self.assertEqual(start_marker_locn('nppdvjthqldpwncqszvftbrmjlhg'), 6)\n",
    "                         \n",
    "    def test_start_marker_locn_4(self):\n",
    "        self.assertEqual(start_marker_locn('nznrnfrfntjfmvfwmzdfjlvtqnbhcprsg'),  10)\n",
    "                         \n",
    "    def test_start_marker_locn_5(self):\n",
    "        self.assertEqual(start_marker_locn('zcfzfwzzqfrljwzlrfnpqdbhtmscgvjw'),  11)\n",
    "                         \n",
    "unittest.main(argv=[''], verbosity=2, exit=False)"
   ]
  },
  {
   "cell_type": "code",
   "execution_count": 9,
   "id": "fa3aad1a-150a-465d-9cb9-e656162c192c",
   "metadata": {},
   "outputs": [
    {
     "name": "stdout",
     "output_type": "stream",
     "text": [
      "The answer is 1848\n"
     ]
    }
   ],
   "source": [
    "#@title Import test data and process\n",
    "\n",
    "with open('input.txt') as f:\n",
    "    for line in f:\n",
    "        result = start_marker_locn(line)\n",
    "        print(f'The answer is {result}')"
   ]
  },
  {
   "cell_type": "markdown",
   "id": "36f77c1c-6758-4b8a-8686-764024981d72",
   "metadata": {},
   "source": [
    "That's the right answer! You are one gold star closer to collecting enough star fruit. [Continue to Part Two]\n",
    "\n",
    "Your puzzle answer was 1848.\n",
    "\n",
    "The first half of this puzzle is complete! It provides one gold star: *"
   ]
  },
  {
   "cell_type": "markdown",
   "id": "832abe19-5fbf-4145-8331-41b8f62af89b",
   "metadata": {},
   "source": [
    "## Part Two\n",
    "\n",
    "Your device's communication system is correctly detecting packets, but still isn't working. It looks like it also needs to look for messages.\n",
    "\n",
    "A start-of-message marker is just like a start-of-packet marker, except it consists of 14 distinct characters rather than 4.\n",
    "\n",
    "Here are the first positions of start-of-message markers for all of the above examples:\n",
    "\n",
    "- `mjqjpqmgbljsphdztnvjfqwrcgsmlb`: first marker after character 19\n",
    "- `bvwbjplbgvbhsrlpgdmjqwftvncz`: first marker after character 23\n",
    "- `nppdvjthqldpwncqszvftbrmjlhg`: first marker after character 23\n",
    "- `nznrnfrfntjfmvfwmzdfjlvtqnbhcprsg`: first marker after character 29\n",
    "- `zcfzfwzzqfrljwzlrfnpqdbhtmscgvjw`: first marker after character 26\n",
    "\n",
    "How many characters need to be processed before the first start-of-message marker is detected?"
   ]
  },
  {
   "cell_type": "code",
   "execution_count": 10,
   "id": "addf7df2-887f-4da6-918b-6f19531b197c",
   "metadata": {},
   "outputs": [],
   "source": [
    "NUMBER_OF_UNIQUE_FOR_START=14"
   ]
  },
  {
   "cell_type": "code",
   "execution_count": 11,
   "id": "30ea2913-9c90-41f1-97b6-7478e788669c",
   "metadata": {},
   "outputs": [
    {
     "name": "stdout",
     "output_type": "stream",
     "text": [
      "The answer is 2308\n"
     ]
    }
   ],
   "source": [
    "#@title Import test data and process for part 2\n",
    "\n",
    "with open('input.txt') as f:\n",
    "    for line in f:\n",
    "        result = start_marker_locn(line)\n",
    "        print(f'The answer is {result}')"
   ]
  },
  {
   "cell_type": "markdown",
   "id": "719ee83d-8c09-469d-a99f-c605520d98c2",
   "metadata": {},
   "source": [
    "That's the right answer! You are one gold star closer to collecting enough star fruit.\n",
    "\n",
    "You have completed Day 6! You can [Share] this victory or [Return to Your Advent Calendar]."
   ]
  }
 ],
 "metadata": {
  "kernelspec": {
   "display_name": "Python 3 (ipykernel)",
   "language": "python",
   "name": "python3"
  },
  "language_info": {
   "codemirror_mode": {
    "name": "ipython",
    "version": 3
   },
   "file_extension": ".py",
   "mimetype": "text/x-python",
   "name": "python",
   "nbconvert_exporter": "python",
   "pygments_lexer": "ipython3",
   "version": "3.11.6"
  }
 },
 "nbformat": 4,
 "nbformat_minor": 5
}
