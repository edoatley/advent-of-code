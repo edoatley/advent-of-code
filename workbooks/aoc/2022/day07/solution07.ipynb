{
 "cells": [
  {
   "cell_type": "markdown",
   "id": "f89f1f1d-234a-432e-a489-635afe1aad34",
   "metadata": {},
   "source": [
    "## Day 7: No Space Left On Device\n",
    "\n",
    "You can hear birds chirping and raindrops hitting leaves as the expedition proceeds. Occasionally, you can even hear much louder sounds in the distance; how big do the animals get out here, anyway?\n",
    "\n",
    "The device the Elves gave you has problems with more than just its communication system. You try to run a system update:\n",
    "\n",
    "$ system-update --please --pretty-please-with-sugar-on-top\n",
    "Error: No space left on device\n",
    "Perhaps you can delete some files to make space for the update?\n",
    "\n",
    "You browse around the filesystem to assess the situation and save the resulting terminal output (your puzzle input). For example:\n",
    "\n",
    "```\n",
    "$ cd /\n",
    "$ ls\n",
    "dir a\n",
    "14848514 b.txt\n",
    "8504156 c.dat\n",
    "dir d\n",
    "$ cd a\n",
    "$ ls\n",
    "dir e\n",
    "29116 f\n",
    "2557 g\n",
    "62596 h.lst\n",
    "$ cd e\n",
    "$ ls\n",
    "584 i\n",
    "$ cd ..\n",
    "$ cd ..\n",
    "$ cd d\n",
    "$ ls\n",
    "4060174 j\n",
    "8033020 d.log\n",
    "5626152 d.ext\n",
    "7214296 k\n",
    "```\n",
    "\n",
    "The filesystem consists of a tree of files (plain data) and directories (which can contain other directories or files). The outermost directory is called /. You can navigate around the filesystem, moving into or out of directories and listing the contents of the directory you're currently in.\n",
    "\n",
    "Within the terminal output, lines that begin with $ are commands you executed, very much like some modern computers:\n",
    "\n",
    "- cd means change directory. This changes which directory is the current directory, but the specific result depends on the argument:\n",
    "    - cd x moves in one level: it looks in the current directory for the directory named x and makes it the current directory.\n",
    "    - cd .. moves out one level: it finds the directory that contains the current directory, then makes that directory the current directory.\n",
    "    - cd / switches the current directory to the outermost directory, /.\n",
    "- ls means list. It prints out all of the files and directories immediately contained by the current directory:\n",
    "    - 123 abc means that the current directory contains a file named abc with size 123.\n",
    "    - dir xyz means that the current directory contains a directory named xyz.\n",
    "\n",
    "Given the commands and output in the example above, you can determine that the filesystem looks visually like this:\n",
    "\n",
    "```\n",
    "- / (dir)\n",
    "  - a (dir)\n",
    "    - e (dir)\n",
    "      - i (file, size=584)\n",
    "    - f (file, size=29116)\n",
    "    - g (file, size=2557)\n",
    "    - h.lst (file, size=62596)\n",
    "  - b.txt (file, size=14848514)\n",
    "  - c.dat (file, size=8504156)\n",
    "  - d (dir)\n",
    "    - j (file, size=4060174)\n",
    "    - d.log (file, size=8033020)\n",
    "    - d.ext (file, size=5626152)\n",
    "    - k (file, size=7214296)\n",
    "```\n",
    "\n",
    "Here, there are four directories: / (the outermost directory), a and d (which are in /), and e (which is in a). These directories also contain files of various sizes.\n",
    "\n",
    "Since the disk is full, your first step should probably be to find directories that are good candidates for deletion. To do this, you need to determine the total size of each directory. The total size of a directory is the sum of the sizes of the files it contains, directly or indirectly. (Directories themselves do not count as having any intrinsic size.)\n",
    "\n",
    "The total sizes of the directories above can be found as follows:\n",
    "\n",
    "- The total size of directory e is 584 because it contains a single file i of size 584 and no other directories.\n",
    "- The directory a has total size 94853 because it contains files f (size 29116), g (size 2557), and h.lst (size 62596), plus file i indirectly (a contains e which contains i).\n",
    "- Directory d has total size 24933642.\n",
    "- As the outermost directory, / contains every file. Its total size is 48381165, the sum of the size of every file.\n",
    "\n",
    "To begin, find all of the directories with a total size of at most 100000, then calculate the sum of their total sizes. In the example above, these directories are a and e; the sum of their total sizes is 95437 (94853 + 584). (As in this example, this process can count files more than once!)\n",
    "\n",
    "Find all of the directories with a total size of at most 100000. What is the sum of the total sizes of those directories?"
   ]
  },
  {
   "cell_type": "code",
   "execution_count": 1,
   "id": "71bc2274-8989-43a8-bc6e-1fd2353bfa62",
   "metadata": {},
   "outputs": [],
   "source": [
    "#@title Define process_input_file function to read the file and create a file listing\n",
    "CD_PREFIX = '$ cd '\n",
    "LS = '$ ls'\n",
    "DIR = 'dir '\n",
    "\n",
    "def go_to_parent(path : str) -> str:\n",
    "    temp_path  = path[:-1]\n",
    "    temp_path = temp_path[:temp_path.rindex('/')]\n",
    "    if temp_path != '/':\n",
    "        temp_path = temp_path + '/'\n",
    "    return temp_path\n",
    "\n",
    "def process_input_file(filename: str):\n",
    "    current_working_directory = ''\n",
    "    file_listing = []\n",
    "\n",
    "    with open(filename) as f:\n",
    "        for line in f:\n",
    "            trimmed_line = line.rstrip('\\n')\n",
    "            if trimmed_line.startswith(CD_PREFIX):\n",
    "                if '..' in trimmed_line:\n",
    "                    current_working_directory = go_to_parent(current_working_directory)\n",
    "                else: \n",
    "                    folder = trimmed_line.replace(CD_PREFIX, '')\n",
    "                    if folder != '/':\n",
    "                        folder = folder + '/'\n",
    "                    current_working_directory = current_working_directory + folder\n",
    "            elif trimmed_line.startswith(DIR) or trimmed_line == LS: \n",
    "                continue\n",
    "            else:\n",
    "                file = trimmed_line.split(' ')\n",
    "                file_name = file[1]\n",
    "                file_size = file[0]\n",
    "                new_file_entry = [f'{current_working_directory}{file_name}', int(file_size)]\n",
    "                file_listing.append(new_file_entry)\n",
    "\n",
    "    return file_listing"
   ]
  },
  {
   "cell_type": "code",
   "execution_count": 2,
   "id": "b95353fd-d09a-4edd-bd34-14b82bad63cb",
   "metadata": {},
   "outputs": [
    {
     "name": "stderr",
     "output_type": "stream",
     "text": [
      "test_process_input_file (__main__.TestProcessInput.test_process_input_file) ... ok\n",
      "\n",
      "----------------------------------------------------------------------\n",
      "Ran 1 test in 0.002s\n",
      "\n",
      "OK\n"
     ]
    },
    {
     "data": {
      "text/plain": [
       "<unittest.main.TestProgram at 0x7f24688029d0>"
      ]
     },
     "execution_count": 2,
     "metadata": {},
     "output_type": "execute_result"
    }
   ],
   "source": [
    "#@title Test process_input_file functions\n",
    "import unittest\n",
    "\n",
    "class TestProcessInput(unittest.TestCase):\n",
    "\n",
    "    def test_process_input_file(self):\n",
    "        expected = [\n",
    "            ['/a/e/i', 584],\n",
    "            ['/a/f', 29116],\n",
    "            ['/a/g', 2557],\n",
    "            ['/a/h.lst', 62596],\n",
    "            ['/b.txt',  14848514],\n",
    "            ['/c.dat',  8504156],\n",
    "            ['/d/d.ext', 5626152],\n",
    "            ['/d/d.log', 8033020],\n",
    "            ['/d/j', 4060174],\n",
    "            ['/d/k', 7214296],\n",
    "        ]\n",
    "\n",
    "        actual = sorted(process_input_file('test.txt'))\n",
    "        \n",
    "        self.assertEqual(actual, expected)\n",
    "                         \n",
    "unittest.main(argv=[''], verbosity=2, exit=False)"
   ]
  },
  {
   "cell_type": "code",
   "execution_count": 3,
   "id": "49b58d3d-b779-46ed-a5bd-af9fa6cf0fc9",
   "metadata": {},
   "outputs": [],
   "source": [
    "#@title Create a function distinct_directories to list all the distinct directories\n",
    "\n",
    "def distinct_directories(file_listing):\n",
    "    directories = ['/']\n",
    "    for file in file_listing:\n",
    "        temp = ''\n",
    "        for file_component in file[0].split('/')[1:-1]:\n",
    "            temp =  temp + '/' + file_component\n",
    "            directories.append(temp)\n",
    "        \n",
    "    return set(directories)\n",
    "\n",
    "def sum_for_directory(file_listing, dir):\n",
    "    if dir != '/':\n",
    "        dir = dir + '/' #force it to be a directory\n",
    "    return sum([file[1] for file in file_listing if file[0].startswith(dir)])\n",
    "\n",
    "def directories_under_limit(file_listing, limit):\n",
    "    total_sum = 0\n",
    "    for d in distinct_directories(file_listing): \n",
    "        sum_dir = sum_for_directory(file_listing, d) \n",
    "        if sum_dir <= limit:\n",
    "            print(f'A {d} {sum_dir}')\n",
    "            total_sum = total_sum + sum_dir\n",
    "    \n",
    "    return total_sum"
   ]
  },
  {
   "cell_type": "code",
   "execution_count": 4,
   "id": "1d9042fe-0b35-49d6-a6c6-c7460452b9de",
   "metadata": {},
   "outputs": [
    {
     "name": "stderr",
     "output_type": "stream",
     "text": [
      "test_distict_directories_for_bug (__main__.TestDirectories.test_distict_directories_for_bug) ... ok\n",
      "test_distinct_directories (__main__.TestDirectories.test_distinct_directories) ... ok\n",
      "test_sum_directories_under_limit (__main__.TestDirectories.test_sum_directories_under_limit) ... ok\n",
      "test_sum_for_directory (__main__.TestDirectories.test_sum_for_directory) ... ok\n",
      "test_sum_for_directory_bug (__main__.TestDirectories.test_sum_for_directory_bug) ... ok\n",
      "test_process_input_file (__main__.TestProcessInput.test_process_input_file) ... ok\n",
      "\n",
      "----------------------------------------------------------------------\n",
      "Ran 6 tests in 0.011s\n",
      "\n",
      "OK\n"
     ]
    },
    {
     "name": "stdout",
     "output_type": "stream",
     "text": [
      "A /a/e 584\n",
      "A /a 94853\n"
     ]
    },
    {
     "data": {
      "text/plain": [
       "<unittest.main.TestProgram at 0x7f2464683110>"
      ]
     },
     "execution_count": 4,
     "metadata": {},
     "output_type": "execute_result"
    }
   ],
   "source": [
    "#@title Test directory functions\n",
    "import unittest\n",
    "\n",
    "test_file_listing = [\n",
    "    ['/a/e/i', 584],\n",
    "    ['/a/f', 29116],\n",
    "    ['/a/g', 2557],\n",
    "    ['/a/h.lst', 62596],\n",
    "    ['/b.txt',  14848514],\n",
    "    ['/c.dat',  8504156],\n",
    "    ['/d/d.ext', 5626152],\n",
    "    ['/d/d.log', 8033020],\n",
    "    ['/d/j', 4060174],\n",
    "    ['/d/k', 7214296],\n",
    "]\n",
    "\n",
    "class TestDirectories(unittest.TestCase):\n",
    "    \n",
    "    def test_distinct_directories(self):\n",
    "\n",
    "        expected = set([\n",
    "            '/',\n",
    "            '/a',\n",
    "            '/a/e',\n",
    "            '/d',\n",
    "        ])\n",
    "        \n",
    "        actual = distinct_directories(test_file_listing)\n",
    "        \n",
    "        self.assertEqual(sorted(actual), sorted(expected))\n",
    "\n",
    "    def test_distict_directories_for_bug(self):\n",
    "        input = [\n",
    "            ['/jssbn/pjzpjjq/qlrn/wbgvqpc/qfhvjtv/mhbbpdpj/ghrbbh/tlhttrgs', 24686]\n",
    "        ]\n",
    "        expected = set([\n",
    "            '/',\n",
    "            '/jssbn',\n",
    "            '/jssbn/pjzpjjq',\n",
    "            '/jssbn/pjzpjjq/qlrn',\n",
    "            '/jssbn/pjzpjjq/qlrn/wbgvqpc',\n",
    "            '/jssbn/pjzpjjq/qlrn/wbgvqpc/qfhvjtv',\n",
    "            '/jssbn/pjzpjjq/qlrn/wbgvqpc/qfhvjtv/mhbbpdpj',\n",
    "            '/jssbn/pjzpjjq/qlrn/wbgvqpc/qfhvjtv/mhbbpdpj/ghrbbh',\n",
    "        ])\n",
    "        \n",
    "        actual = distinct_directories(input)\n",
    "        \n",
    "        self.assertEqual(sorted(actual), sorted(expected))\n",
    "\n",
    "    def test_sum_for_directory(self):\n",
    "        self.assertEqual(sum_for_directory(test_file_listing, '/'), 48381165)\n",
    "        self.assertEqual(sum_for_directory(test_file_listing, '/d'), 24933642)\n",
    "        self.assertEqual(sum_for_directory(test_file_listing, '/a'), 94853)\n",
    "        self.assertEqual(sum_for_directory(test_file_listing, '/a/e'), 584)        \n",
    "\n",
    "    def test_sum_for_directory_bug(self):\n",
    "        my_listing = [\n",
    "           ['/lfrctthp/zzvnq/lznpqbrd/dvlb.qvr', 175412],\n",
    "           ['/lfrctthp/zzvnq/lznpqbrd/dvlb/rwr.nbz', 41223],\n",
    "        ]\n",
    "        self.assertEqual(sum_for_directory(my_listing, '/lfrctthp/zzvnq/lznpqbrd/dvlb'), 41223)        \n",
    "\n",
    "    \n",
    "        \n",
    "    def test_sum_directories_under_limit(self):\n",
    "        self.assertEqual(directories_under_limit(test_file_listing, 100000), 95437)\n",
    "    \n",
    "unittest.main(argv=[''], verbosity=2, exit=False)"
   ]
  },
  {
   "cell_type": "code",
   "execution_count": 5,
   "id": "27f1b2a1-1a81-4ad3-9f20-2ca92115926a",
   "metadata": {},
   "outputs": [],
   "source": [
    "file_listing = process_input_file('input.txt')"
   ]
  },
  {
   "cell_type": "code",
   "execution_count": 6,
   "id": "0a5953df-fd01-4cf8-a420-ade3a78fb20a",
   "metadata": {},
   "outputs": [
    {
     "name": "stdout",
     "output_type": "stream",
     "text": [
      "A /nmzntmcf/scwnmrds/sppmmj/sppmmj 73173\n",
      "A /jssbn/tlhttrgs/zjghthcb/ghzsqrn/sfhqmzhd 58893\n",
      "A /lfrctthp/cwjbzd/dfqpqqw 93069\n",
      "A /jssbn/tlhttrgs/zjghthcb/hvwjc/nchvqtdq 49931\n",
      "A /jssbn/rbtbtt/wqmvzg/lzbj 5150\n",
      "A /jssbn/pjzpjjq/dvlb/fnwsmj/lfrctthp/sgddcfdn/lnjln 28970\n",
      "A /lfrctthp/zzvnq/vnmhs 16118\n",
      "A /jssbn/rbtbtt/wqmvzg 5150\n",
      "A /nmzntmcf/scwnmrds 73173\n",
      "A /lfrctthp/zzvnq/lznpqbrd/dvlb 41223\n",
      "A /lfrctthp/sqhvvsb/ldmwm/cwjbzd/tlhttrgs/cgf 77864\n",
      "A /lfrctthp/dvlb/dnqvhtr/jzm/smtpdcpf 95947\n",
      "A /jssbn/tlhttrgs/zjghthcb/ghzsqrn/mdqbvhrr 32598\n",
      "A /jssbn/pjzpjjq/qlrn/wbgvqpc/qfhvjtv/mhbbpdpj 24686\n",
      "A /nmzntmcf/scwnmrds/sppmmj 73173\n",
      "A /lfrctthp/dvlb/jqpzj 7675\n",
      "A /nmzntmcf/lvchpdf/tlhttrgs/tlhttrgs/sbhswjld/sppmmj 88100\n",
      "A /jssbn/pjzpjjq/qlrn/wbgvqpc/qfhvjtv/mhbbpdpj/ghrbbh 24686\n",
      "A /nmzntmcf/lvchpdf/sppmmj/rdd 20045\n",
      "A /jssbn/pjzpjjq/dvlb/zhj/nqv/tlhttrgs/cqtnvzn 49609\n",
      "A /nmzntmcf/lrtsts/drtrdnsg/sppmmj/wwhbgg 51752\n",
      "A /lfrctthp/cwjbzd/dfqpqqw/rjm 25830\n",
      "A /jssbn/lfrctthp/lfrctthp 25083\n",
      "A /jssbn/pjzpjjq/qlrn/wbgvqpc/tpcwhmv 3666\n",
      "A /jssbn/rbtbtt/wqmvzg/lzbj/tnhdmqjh 5150\n",
      "A /nmzntmcf/lvchpdf/njfmmj/bjsvdfrf 77668\n",
      "A /lfrctthp/sqhvvsb/ldmwm/cwjbzd/tlhttrgs/cgf/dvlb 77864\n",
      "A /jssbn/pjzpjjq/qlrn/jwgd 57414\n",
      "A /lfrctthp/dvlb/jvvsgbl/gtwrhhd 59762\n",
      "A /jssbn/lfrctthp/srf/wvhhr 10445\n",
      "A /lfrctthp/dvlb/jvvsgbl/tlhttrgs/dvlb 62683\n",
      "A /nmzntmcf/lvchpdf/sppmmj/tlhttrgs 47256\n",
      "Total sum = 1443806\n"
     ]
    }
   ],
   "source": [
    "limit = 100000\n",
    "total_sum = directories_under_limit(file_listing, limit)\n",
    "print(f'Total sum = {total_sum}')"
   ]
  },
  {
   "cell_type": "markdown",
   "id": "e4044880-a278-41bc-bd67-ccd8f45d1191",
   "metadata": {},
   "source": [
    "## Part Two\n",
    "\n",
    "Now, you're ready to choose a directory to delete.\n",
    "\n",
    "The total disk space available to the filesystem is 70000000. To run the update, you need unused space of at least 30000000. You need to find a directory you can delete that will free up enough space to run the update.\n",
    "\n",
    "In the example above, the total size of the outermost directory (and thus the total amount of used space) is 48381165; this means that the size of the unused space must currently be 21618835, which isn't quite the 30000000 required by the update. Therefore, the update still requires a directory with total size of at least 8381165 to be deleted before it can run.\n",
    "\n",
    "To achieve this, you have the following options:\n",
    "\n",
    "Delete directory e, which would increase unused space by 584.\n",
    "Delete directory a, which would increase unused space by 94853.\n",
    "Delete directory d, which would increase unused space by 24933642.\n",
    "Delete directory /, which would increase unused space by 48381165.\n",
    "Directories e and a are both too small; deleting them would not free up enough space. However, directories d and / are both big enough! Between these, choose the smallest: d, increasing unused space by 24933642.\n",
    "\n",
    "Find the smallest directory that, if deleted, would free up enough space on the filesystem to run the update. What is the total size of that directory?"
   ]
  },
  {
   "cell_type": "code",
   "execution_count": 11,
   "id": "d9efe275-968a-45bf-8d0a-fdbdf0f12f24",
   "metadata": {},
   "outputs": [
    {
     "data": {
      "text/plain": [
       "29086555"
      ]
     },
     "execution_count": 11,
     "metadata": {},
     "output_type": "execute_result"
    }
   ],
   "source": [
    "space_available = 70000000 - sum_for_directory(file_listing, '/')\n",
    "space_available"
   ]
  },
  {
   "cell_type": "code",
   "execution_count": 12,
   "id": "c962b8b0-7057-4eb1-b440-c3d8fda22c22",
   "metadata": {},
   "outputs": [
    {
     "data": {
      "text/plain": [
       "913445"
      ]
     },
     "execution_count": 12,
     "metadata": {},
     "output_type": "execute_result"
    }
   ],
   "source": [
    "additional_required = 30000000 - space_available\n",
    "additional_required"
   ]
  },
  {
   "cell_type": "code",
   "execution_count": 14,
   "id": "6d4ca83c-a0e6-47a6-932b-1e9e138fe9d1",
   "metadata": {},
   "outputs": [
    {
     "name": "stdout",
     "output_type": "stream",
     "text": [
      "942298\n"
     ]
    }
   ],
   "source": [
    "totals = []\n",
    "for d in distinct_directories(file_listing):\n",
    "    s = sum_for_directory(file_listing, d)\n",
    "    if s >= additional_required:\n",
    "        totals.append(s)\n",
    "\n",
    "print(sorted(totals)[0])"
   ]
  }
 ],
 "metadata": {
  "kernelspec": {
   "display_name": "Python 3 (ipykernel)",
   "language": "python",
   "name": "python3"
  },
  "language_info": {
   "codemirror_mode": {
    "name": "ipython",
    "version": 3
   },
   "file_extension": ".py",
   "mimetype": "text/x-python",
   "name": "python",
   "nbconvert_exporter": "python",
   "pygments_lexer": "ipython3",
   "version": "3.11.6"
  }
 },
 "nbformat": 4,
 "nbformat_minor": 5
}
